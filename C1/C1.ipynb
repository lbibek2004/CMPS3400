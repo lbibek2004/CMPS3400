{
 "cells": [
  {
   "cell_type": "markdown",
   "metadata": {},
   "source": [
    "# Challenge 1 Python Programming"
   ]
  },
  {
   "cell_type": "markdown",
   "metadata": {},
   "source": [
    "<p>Team Name: Group F\n",
    "<p>Student Name: Bibek Luitel, Joshua Mcneely"
   ]
  },
  {
   "cell_type": "markdown",
   "metadata": {},
   "source": [
    "## Instructions\n",
    "Use generic coding style unless hard-coded values are really necessary.<br>\n",
    "Your code must be efficient and use self-explanatory naming.<br>\n",
    "Use appropriate Python library methods for each task instead of using loops.<br>\n",
    "Run your entire code and save. Then submit this <b>saved</b> copy."
   ]
  },
  {
   "cell_type": "markdown",
   "metadata": {},
   "source": [
    "## Imports"
   ]
  },
  {
   "cell_type": "code",
   "execution_count": 35,
   "metadata": {
    "collapsed": true,
    "jupyter": {
     "outputs_hidden": true
    }
   },
   "outputs": [],
   "source": [
    "import csv\n",
    "import pandas as pd \n",
    "import os\n",
    "os.makedirs(\"RESULT\", exist_ok=True)"
   ]
  },
  {
   "cell_type": "markdown",
   "metadata": {},
   "source": [
    "## <center> Part I </center>"
   ]
  },
  {
   "cell_type": "markdown",
   "metadata": {},
   "source": [
    "### 1) Read  student records from the file Student.csv in INPUT and store into a dictionary \"stdRec\", and display content:"
   ]
  },
  {
   "cell_type": "code",
   "execution_count": 36,
   "metadata": {},
   "outputs": [
    {
     "name": "stdout",
     "output_type": "stream",
     "text": [
      "Dictionary of student records:\n",
      " {'STUDENT ID': [775418, 775419, 775420, 775421, 775422, 775423], 'STUDENT FIRST NAME': ['Bibek', 'John', 'Jane', 'Alice', 'Bob', 'Charlie'], 'STUDENT LAST NAME': ['Luitel', 'Doe', 'Smith', 'Johnson', 'Brown', 'Davis'], 'COURSE ID': ['CMPS340', 'CMPS340', 'CMPS340', 'CMPS340', 'CMPS340', 'CMPS340'], 'MIDTERM': [85, 78, 92, 80, 70, 88], 'FINAL': [90, 88, 95, 85, 75, 92]}\n"
     ]
    }
   ],
   "source": [
    "input_path = \"./INPUT/Student.csv\"\n",
    "result_dir = \"RESULT\"\n",
    "df = pd.read_csv(input_path)\n",
    "\n",
    "stdRec = df.to_dict(orient=\"list\")\n",
    "print(\"Dictionary of student records:\\n\", stdRec)"
   ]
  },
  {
   "cell_type": "markdown",
   "metadata": {},
   "source": [
    "### 2) Store headers into a tuple \"header\", and display content:"
   ]
  },
  {
   "cell_type": "code",
   "execution_count": 37,
   "metadata": {
    "collapsed": true,
    "jupyter": {
     "outputs_hidden": true
    }
   },
   "outputs": [
    {
     "name": "stdout",
     "output_type": "stream",
     "text": [
      "Headers:\n",
      " ('STUDENT ID', 'STUDENT FIRST NAME', 'STUDENT LAST NAME', 'COURSE ID', 'MIDTERM', 'FINAL')\n"
     ]
    }
   ],
   "source": [
    "header = tuple(df.columns)\n",
    "print(\"Headers:\\n\", header)"
   ]
  },
  {
   "cell_type": "markdown",
   "metadata": {},
   "source": [
    "### 3) Store data \"values\" only into a list \"data\", and display content:"
   ]
  },
  {
   "cell_type": "code",
   "execution_count": 38,
   "metadata": {},
   "outputs": [
    {
     "name": "stdout",
     "output_type": "stream",
     "text": [
      "Data values:\n",
      " [[775418, 'Bibek', 'Luitel', 'CMPS340', 85, 90], [775419, 'John', 'Doe', 'CMPS340', 78, 88], [775420, 'Jane', 'Smith', 'CMPS340', 92, 95], [775421, 'Alice', 'Johnson', 'CMPS340', 80, 85], [775422, 'Bob', 'Brown', 'CMPS340', 70, 75]]\n"
     ]
    }
   ],
   "source": [
    "data = df.values.tolist()\n",
    "print(\"Data values:\\n\", data[:5])"
   ]
  },
  {
   "cell_type": "markdown",
   "metadata": {},
   "source": [
    "### 4) Ask user to enter a student number to search \"data\" for the W# and return all his/her grades for the classes taken:"
   ]
  },
  {
   "cell_type": "code",
   "execution_count": 41,
   "metadata": {
    "collapsed": true,
    "jupyter": {
     "outputs_hidden": true
    }
   },
   "outputs": [
    {
     "name": "stdout",
     "output_type": "stream",
     "text": [
      "Student record found:\n",
      "    STUDENT ID STUDENT FIRST NAME STUDENT LAST NAME COURSE ID  MIDTERM  FINAL\n",
      "2      775420               Jane             Smith   CMPS340       92     95\n"
     ]
    }
   ],
   "source": [
    "search_w = int(input(\"Enter a student id (W#): \"))\n",
    "search_result = df[df['STUDENT ID'] == search_w]\n",
    "\n",
    "if not search_result.empty:\n",
    "    print(\"Student record found:\\n\", search_result)\n",
    "else:\n",
    "    print(\"No record found for W#:\", search_w)"
   ]
  },
  {
   "cell_type": "markdown",
   "metadata": {},
   "source": [
    "### 5) Write the search result into a file with a file name which is consisted of W# and extention \"csv\". The file will be stored into the folder \"RESULT\". The first line of the file will have headers:"
   ]
  },
  {
   "cell_type": "code",
   "execution_count": 42,
   "metadata": {
    "collapsed": true,
    "jupyter": {
     "outputs_hidden": true
    }
   },
   "outputs": [
    {
     "name": "stdout",
     "output_type": "stream",
     "text": [
      "Search result saved to: RESULT/775420.csv\n"
     ]
    }
   ],
   "source": [
    "if not search_result.empty:\n",
    "    output_file = os.path.join(result_dir, f\"{search_w}.csv\")\n",
    "    search_result.to_csv(output_file, index=False)\n",
    "    print(f\"Search result saved to: {output_file}\")"
   ]
  },
  {
   "cell_type": "markdown",
   "metadata": {},
   "source": [
    "## <center> Part II </center>"
   ]
  },
  {
   "cell_type": "markdown",
   "metadata": {},
   "source": [
    "### 1) Ask user to enter two strings \"reference\" and \"pattern\":"
   ]
  },
  {
   "cell_type": "code",
   "execution_count": 54,
   "metadata": {
    "collapsed": true,
    "jupyter": {
     "outputs_hidden": true
    }
   },
   "outputs": [],
   "source": [
    "reference = input(\"Enter reference string: \")\n",
    "pattern = input(\"Enter pattern string: \")"
   ]
  },
  {
   "cell_type": "markdown",
   "metadata": {},
   "source": [
    "### 2) Check if the pattern string is in the reference string. Display the result together with the input data:"
   ]
  },
  {
   "cell_type": "code",
   "execution_count": 55,
   "metadata": {
    "collapsed": true,
    "jupyter": {
     "outputs_hidden": true
    }
   },
   "outputs": [
    {
     "name": "stdout",
     "output_type": "stream",
     "text": [
      "'lazy' is found in 'a quick brown fox jumps over the lazy dog'\n"
     ]
    }
   ],
   "source": [
    "if pattern in reference:\n",
    "    print(f\"'{pattern}' is found in '{reference}'\")\n",
    "else:\n",
    "    print(f\"'{pattern}' is NOT found in '{reference}'\")"
   ]
  },
  {
   "cell_type": "markdown",
   "metadata": {},
   "source": [
    "### 3) Split characters of both strings into the sets \"sRef\" and \"sPat\":"
   ]
  },
  {
   "cell_type": "code",
   "execution_count": 60,
   "metadata": {
    "collapsed": true,
    "jupyter": {
     "outputs_hidden": true
    }
   },
   "outputs": [
    {
     "name": "stdout",
     "output_type": "stream",
     "text": [
      "Set of reference string: {'e', 'q', 'x', 'h', 'i', 's', 'd', 'o', 'y', 'c', 'u', 'j', 't', 'l', 'p', 'b', 'n', 'z', ' ', 'k', 'a', 'r', 'm', 'v', 'w', 'g', 'f'}\n",
      "Set of pattern string: {'l', 'z', 'y', 'a'}\n"
     ]
    }
   ],
   "source": [
    "sRef = set(reference)\n",
    "sPat = set(pattern)\n",
    "\n",
    "print(\"Set of reference string:\", sRef)\n",
    "print(\"Set of pattern string:\", sPat)"
   ]
  },
  {
   "cell_type": "markdown",
   "metadata": {},
   "source": [
    "### 4) Check if sPat is a subset of sRef. Display the result together with the input data:"
   ]
  },
  {
   "cell_type": "code",
   "execution_count": 61,
   "metadata": {
    "collapsed": true,
    "jupyter": {
     "outputs_hidden": true
    }
   },
   "outputs": [
    {
     "name": "stdout",
     "output_type": "stream",
     "text": [
      "All characters of pattern 'lazy' are in reference 'a quick brown fox jumps over the lazy dog'\n"
     ]
    }
   ],
   "source": [
    "if sPat.issubset(sRef):\n",
    "    print(f\"All characters of pattern '{pattern}' are in reference '{reference}'\")\n",
    "else:\n",
    "    print(f\"Not all characters of pattern '{pattern}' are in reference '{reference}'\")"
   ]
  },
  {
   "cell_type": "markdown",
   "metadata": {},
   "source": [
    "## <center> Part III </center>"
   ]
  },
  {
   "cell_type": "markdown",
   "metadata": {},
   "source": [
    "### 1) Write a class \"Search_Pattern\" which will accomplish the tasks listed in Part-II. In the task-1, the string pairs \"reference\" and \"pattern\" must be read from a file:"
   ]
  },
  {
   "cell_type": "code",
   "execution_count": null,
   "metadata": {
    "collapsed": true,
    "jupyter": {
     "outputs_hidden": true
    }
   },
   "outputs": [],
   "source": []
  },
  {
   "cell_type": "markdown",
   "metadata": {},
   "source": [
    "### 2) Generate a test set of \"reference\" and \"pattern\" into a file \"Test_Data\" in INPUT. The test data must test following cases:\n",
    ">   <p>a. The pattern is in the reference.\n",
    "    <p>b. The pattern is NOT in the reference.\n",
    "    <p>c. The pattern is NOT in the reference but its items make a subset of the reference\n",
    "<h3>Test the class Search_Pattern using the test data. Display the result together with the input data:"
   ]
  },
  {
   "cell_type": "code",
   "execution_count": null,
   "metadata": {},
   "outputs": [],
   "source": []
  }
 ],
 "metadata": {
  "kernelspec": {
   "display_name": "base",
   "language": "python",
   "name": "python3"
  },
  "language_info": {
   "codemirror_mode": {
    "name": "ipython",
    "version": 3
   },
   "file_extension": ".py",
   "mimetype": "text/x-python",
   "name": "python",
   "nbconvert_exporter": "python",
   "pygments_lexer": "ipython3",
   "version": "3.13.5"
  }
 },
 "nbformat": 4,
 "nbformat_minor": 4
}
