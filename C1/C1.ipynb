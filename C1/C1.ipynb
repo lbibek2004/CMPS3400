{
 "cells": [
  {
   "cell_type": "markdown",
   "metadata": {},
   "source": [
    "# Challenge 1 Python Programming"
   ]
  },
  {
   "cell_type": "markdown",
   "metadata": {},
   "source": [
    "<p>Team Name: Group F\n",
    "<p>Student Name: Bibek Luitel, Joshua Mcneely"
   ]
  },
  {
   "cell_type": "markdown",
   "metadata": {},
   "source": [
    "## Instructions\n",
    "Use generic coding style unless hard-coded values are really necessary.<br>\n",
    "Your code must be efficient and use self-explanatory naming.<br>\n",
    "Use appropriate Python library methods for each task instead of using loops.<br>\n",
    "Run your entire code and save. Then submit this <b>saved</b> copy."
   ]
  },
  {
   "cell_type": "markdown",
   "metadata": {},
   "source": [
    "## Imports"
   ]
  },
  {
   "cell_type": "code",
   "execution_count": 13,
   "metadata": {
    "collapsed": true,
    "jupyter": {
     "outputs_hidden": true
    }
   },
   "outputs": [],
   "source": [
    "import csv\n",
    "import pandas as pd \n",
    "import os\n",
    "os.makedirs(\"RESULT\", exist_ok=True)"
   ]
  },
  {
   "cell_type": "markdown",
   "metadata": {},
   "source": [
    "## <center> Part I </center>"
   ]
  },
  {
   "cell_type": "markdown",
   "metadata": {},
   "source": [
    "### 1) Read  student records from the file Student.csv in INPUT and store into a dictionary \"stdRec\", and display content:"
   ]
  },
  {
   "cell_type": "code",
   "execution_count": null,
   "metadata": {},
   "outputs": [],
   "source": [
    "input_path = \"./INPUT/Student.csv\"\n",
    "result_dir = \"RESULT\"\n",
    "df = pd.read_csv(input_path)\n",
    "\n",
    "stdRec = df.to_dict(orient=\"list\")\n",
    "print(\"Dictionary of student records:\\n\", stdRec)"
   ]
  },
  {
   "cell_type": "markdown",
   "metadata": {},
   "source": [
    "### 2) Store headers into a tuple \"header\", and display content:"
   ]
  },
  {
   "cell_type": "code",
   "execution_count": null,
   "metadata": {
    "collapsed": true,
    "jupyter": {
     "outputs_hidden": true
    }
   },
   "outputs": [],
   "source": [
    "header = tuple(df.columns)\n",
    "print(\"Headers:\\n\", header)"
   ]
  },
  {
   "cell_type": "markdown",
   "metadata": {},
   "source": [
    "### 3) Store data \"values\" only into a list \"data\", and display content:"
   ]
  },
  {
   "cell_type": "code",
   "execution_count": null,
   "metadata": {},
   "outputs": [],
   "source": [
    "data = df.values.tolist()\n",
    "print(\"Data values:\\n\", data[:5])"
   ]
  },
  {
   "cell_type": "markdown",
   "metadata": {},
   "source": [
    "### 4) Ask user to enter a student number to search \"data\" for the W# and return all his/her grades for the classes taken:"
   ]
  },
  {
   "cell_type": "code",
   "execution_count": null,
   "metadata": {
    "collapsed": true,
    "jupyter": {
     "outputs_hidden": true
    }
   },
   "outputs": [],
   "source": [
    "search_w = int(input(\"Enter a student id (W#): \"))\n",
    "search_result = df[df['STUDENT ID'] == search_w]\n",
    "\n",
    "if not search_result.empty:\n",
    "    print(\"Student record found:\\n\", search_result)\n",
    "else:\n",
    "    print(\"No record found for W#:\", search_w)"
   ]
  },
  {
   "cell_type": "markdown",
   "metadata": {},
   "source": [
    "### 5) Write the search result into a file with a file name which is consisted of W# and extention \"csv\". The file will be stored into the folder \"RESULT\". The first line of the file will have headers:"
   ]
  },
  {
   "cell_type": "code",
   "execution_count": null,
   "metadata": {
    "collapsed": true,
    "jupyter": {
     "outputs_hidden": true
    }
   },
   "outputs": [],
   "source": [
    "if not search_result.empty:\n",
    "    output_file = os.path.join(result_dir, f\"{search_w}.csv\")\n",
    "    search_result.to_csv(output_file, index=False)\n",
    "    print(f\"Search result saved to: {output_file}\")"
   ]
  },
  {
   "cell_type": "markdown",
   "metadata": {},
   "source": [
    "## <center> Part II </center>"
   ]
  },
  {
   "cell_type": "markdown",
   "metadata": {},
   "source": [
    "### 1) Ask user to enter two strings \"reference\" and \"pattern\":"
   ]
  },
  {
   "cell_type": "code",
   "execution_count": null,
   "metadata": {
    "collapsed": true,
    "jupyter": {
     "outputs_hidden": true
    }
   },
   "outputs": [],
   "source": [
    "reference = input(\"Enter reference string: \")\n",
    "pattern = input(\"Enter pattern string: \")"
   ]
  },
  {
   "cell_type": "markdown",
   "metadata": {},
   "source": [
    "### 2) Check if the pattern string is in the reference string. Display the result together with the input data:"
   ]
  },
  {
   "cell_type": "code",
   "execution_count": null,
   "metadata": {
    "collapsed": true,
    "jupyter": {
     "outputs_hidden": true
    }
   },
   "outputs": [],
   "source": [
    "if pattern in reference:\n",
    "    print(f\"'{pattern}' is found in '{reference}'\")\n",
    "else:\n",
    "    print(f\"'{pattern}' is NOT found in '{reference}'\")"
   ]
  },
  {
   "cell_type": "markdown",
   "metadata": {},
   "source": [
    "### 3) Split characters of both strings into the sets \"sRef\" and \"sPat\":"
   ]
  },
  {
   "cell_type": "code",
   "execution_count": null,
   "metadata": {
    "collapsed": true,
    "jupyter": {
     "outputs_hidden": true
    }
   },
   "outputs": [],
   "source": [
    "sRef = set(reference)\n",
    "sPat = set(pattern)\n",
    "\n",
    "print(\"Set of reference string:\", sRef)\n",
    "print(\"Set of pattern string:\", sPat)"
   ]
  },
  {
   "cell_type": "markdown",
   "metadata": {},
   "source": [
    "### 4) Check if sPat is a subset of sRef. Display the result together with the input data:"
   ]
  },
  {
   "cell_type": "code",
   "execution_count": null,
   "metadata": {
    "collapsed": true,
    "jupyter": {
     "outputs_hidden": true
    }
   },
   "outputs": [],
   "source": [
    "if sPat.issubset(sRef):\n",
    "    print(f\"All characters of pattern '{pattern}' are in reference '{reference}'\")\n",
    "else:\n",
    "    print(f\"Not all characters of pattern '{pattern}' are in reference '{reference}'\")"
   ]
  },
  {
   "cell_type": "markdown",
   "metadata": {},
   "source": [
    "## <center> Part III </center>"
   ]
  },
  {
   "cell_type": "markdown",
   "metadata": {},
   "source": [
    "### 1) Write a class \"Search_Pattern\" which will accomplish the tasks listed in Part-II. In the task-1, the string pairs \"reference\" and \"pattern\" must be read from a file:"
   ]
  },
  {
   "cell_type": "code",
   "execution_count": 14,
   "metadata": {
    "collapsed": true,
    "jupyter": {
     "outputs_hidden": true
    }
   },
   "outputs": [],
   "source": [
    "\n",
    "class Search_Pattern:\n",
    "    def __init__(self, reference, pattern):\n",
    "        self.reference = reference\n",
    "        self.pattern = pattern\n",
    "\n",
    "    def search(self):\n",
    "        if self.pattern in self.reference:\n",
    "            return True\n",
    "        return False\n",
    "\n",
    "    def is_subset(self):\n",
    "        return set(self.pattern).issubset(set(self.reference))\n",
    "    \n",
    "    def __str__(self):\n",
    "        return f\"Reference: {self.reference}, Pattern: {self.pattern}\"\n",
    "\n",
    "    def evaluate(self):\n",
    "        if self.search():\n",
    "            return \"The pattern is in the reference.\"\n",
    "        elif self.is_subset():\n",
    "            return \"The pattern is NOT in the reference but its items make a subset of the reference.\"\n",
    "        else:\n",
    "            return \"The pattern is NOT in the reference.\"\n",
    "\n"
   ]
  },
  {
   "cell_type": "markdown",
   "metadata": {},
   "source": [
    "### 2) Generate a test set of \"reference\" and \"pattern\" into a file \"Test_Data\" in INPUT. The test data must test following cases:\n",
    ">   <p>a. The pattern is in the reference.\n",
    "    <p>b. The pattern is NOT in the reference.\n",
    "    <p>c. The pattern is NOT in the reference but its items make a subset of the reference\n",
    "<h3>Test the class Search_Pattern using the test data. Display the result together with the input data:"
   ]
  },
  {
   "cell_type": "code",
   "execution_count": 15,
   "metadata": {},
   "outputs": [
    {
     "name": "stdout",
     "output_type": "stream",
     "text": [
      "[['potatoes', 'tao'], ['potatoes', 'topato'], ['potatoes', 'tomatoes']] \n",
      "\n",
      "Reference: potatoes, Pattern: tao\n",
      "a. The pattern is NOT in the reference but its items make a subset of the reference.\n",
      "\n",
      "Reference: potatoes, Pattern: topato\n",
      "b. The pattern is NOT in the reference but its items make a subset of the reference.\n",
      "\n",
      "Reference: potatoes, Pattern: tomatoes\n",
      "c. The pattern is NOT in the reference.\n",
      "\n",
      "\n"
     ]
    }
   ],
   "source": [
    "\n",
    "def search_from_file(filepath):\n",
    "    # pull from the file\n",
    "    ref_pat_pairs: list = []\n",
    "    try: \n",
    "        with open(filepath, 'r') as file:\n",
    "            # ref_pat_pairs = json.load(file)['data']\n",
    "            df = pd.read_csv(file)\n",
    "            ref_pat_pairs = df.values.tolist()\n",
    "    except Exception as e:\n",
    "        return f\"Error: {e}\"\n",
    "    \n",
    "    print(ref_pat_pairs, '\\n')\n",
    "\n",
    "    # create search_patterns for each pair\n",
    "    searchers: list = list(Search_Pattern(i[0], i[1]) for i in ref_pat_pairs)\n",
    "    counter: int = 0\n",
    "    output: str = \"\"\n",
    "\n",
    "    # evaluate each of them and output\n",
    "    for s in searchers:\n",
    "        output += f\"{s}\\n\"\n",
    "        output += f\"{chr(ord('a')+counter)}. {s.evaluate()}\\n\\n\"\n",
    "        counter += 1\n",
    "    \n",
    "    # return the output\n",
    "    return output\n",
    "\n",
    "print(search_from_file(\"./INPUT/Test_Data.csv\"))\n"
   ]
  }
 ],
 "metadata": {
  "kernelspec": {
   "display_name": "Python 3",
   "language": "python",
   "name": "python3"
  },
  "language_info": {
   "codemirror_mode": {
    "name": "ipython",
    "version": 3
   },
   "file_extension": ".py",
   "mimetype": "text/x-python",
   "name": "python",
   "nbconvert_exporter": "python",
   "pygments_lexer": "ipython3",
   "version": "3.11.9"
  }
 },
 "nbformat": 4,
 "nbformat_minor": 4
}
