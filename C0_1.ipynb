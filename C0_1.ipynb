{
 "cells": [
  {
   "cell_type": "markdown",
   "metadata": {},
   "source": [
    "# <center>CHALLENGE 1<center>"
   ]
  },
  {
   "cell_type": "markdown",
   "metadata": {},
   "source": [
    "<p>Team Name: Twins\n",
    "<p>Student Names: Bibek Luitel, Joshua Mcneely"
   ]
  },
  {
   "cell_type": "markdown",
   "metadata": {},
   "source": [
    "## Imports"
   ]
  },
  {
   "cell_type": "code",
   "execution_count": null,
   "metadata": {},
   "outputs": [],
   "source": [
    "from collections import deque"
   ]
  },
  {
   "cell_type": "markdown",
   "metadata": {},
   "source": [
    "# IMMUTABLE OBJECTS"
   ]
  },
  {
   "cell_type": "markdown",
   "metadata": {},
   "source": [
    "## 1 - String"
   ]
  },
  {
   "cell_type": "code",
   "execution_count": 12,
   "metadata": {},
   "outputs": [
    {
     "name": "stdout",
     "output_type": "stream",
     "text": [
      "id(string_obj): 135740173396240\n",
      "<class 'str'> is an immutable data type!\n",
      "id(string_obj): 135740173396240\n"
     ]
    }
   ],
   "source": [
    "string_obj = 'abcd'\n",
    "print(\"id(string_obj):\", id(string_obj))\n",
    "try:\n",
    "    string_obj[0] = 'b'\n",
    "    print(type(string_obj), \"is a mutable data type!\")\n",
    "except:\n",
    "    print(type(string_obj), \"is an immutable data type!\")\n",
    "finally:\n",
    "    print(\"id(string_obj):\", id(string_obj))"
   ]
  },
  {
   "cell_type": "markdown",
   "metadata": {},
   "source": [
    "## 2 - Int"
   ]
  },
  {
   "cell_type": "code",
   "execution_count": 13,
   "metadata": {},
   "outputs": [
    {
     "name": "stdout",
     "output_type": "stream",
     "text": [
      "id(int_obj): 11760968\n",
      "<class 'int'> is an immutable data type!\n",
      "id(int_obj): 11760968\n"
     ]
    }
   ],
   "source": [
    "int_obj = 10\n",
    "print(\"id(int_obj):\", id(int_obj))\n",
    "try:\n",
    "    int_obj[0] = 5\n",
    "    print(type(int_obj), \"is a mutable data type!\")\n",
    "except:\n",
    "    print(type(int_obj), \"is an immutable data type!\")\n",
    "finally:\n",
    "    print(\"id(int_obj):\", id(int_obj))\n"
   ]
  },
  {
   "cell_type": "markdown",
   "metadata": {},
   "source": [
    "## 3 - Float"
   ]
  },
  {
   "cell_type": "code",
   "execution_count": 15,
   "metadata": {},
   "outputs": [
    {
     "name": "stdout",
     "output_type": "stream",
     "text": [
      "id(float_obj): 135740174330224\n",
      "<class 'float'> is an immutable data type!\n",
      "id(float_obj): 135740174330224\n"
     ]
    }
   ],
   "source": [
    "float_obj = 3.14159265358979323846\n",
    "print(\"id(float_obj):\", id(float_obj))\n",
    "try:\n",
    "    float_obj[0] = 1.1\n",
    "    print(type(float_obj), \"is a mutable data type!\")\n",
    "except:\n",
    "    print(type(float_obj), \"is an immutable data type!\")\n",
    "finally:\n",
    "    print(\"id(float_obj):\", id(float_obj))"
   ]
  },
  {
   "cell_type": "markdown",
   "metadata": {},
   "source": [
    "## 4 - Complex"
   ]
  },
  {
   "cell_type": "code",
   "execution_count": 16,
   "metadata": {},
   "outputs": [
    {
     "name": "stdout",
     "output_type": "stream",
     "text": [
      "id(complex_obj): 135739755510256\n",
      "<class 'complex'> is an immutable data type!\n",
      "id(complex_obj): 135739755510256\n"
     ]
    }
   ],
   "source": [
    "complex_obj = 2 + 3j\n",
    "print(\"id(complex_obj):\", id(complex_obj))\n",
    "try:\n",
    "    complex_obj[0] = 1 + 2j\n",
    "    print(type(complex_obj), \"is a mutable data type!\")\n",
    "except:\n",
    "    print(type(complex_obj), \"is an immutable data type!\")\n",
    "finally:\n",
    "    print(\"id(complex_obj):\", id(complex_obj))\n"
   ]
  },
  {
   "cell_type": "markdown",
   "metadata": {},
   "source": [
    "## 5 - Tuple"
   ]
  },
  {
   "cell_type": "code",
   "execution_count": 17,
   "metadata": {},
   "outputs": [
    {
     "name": "stdout",
     "output_type": "stream",
     "text": [
      "id(tuple_obj): 135739754032704\n",
      "<class 'tuple'> is an immutable data type!\n",
      "id(tuple_obj): 135739754032704\n"
     ]
    }
   ],
   "source": [
    "tuple_obj = (1, 2, 3)\n",
    "print(\"id(tuple_obj):\", id(tuple_obj))\n",
    "try:\n",
    "    tuple_obj[0] = 9\n",
    "    print(type(tuple_obj), \"is a mutable data type!\")\n",
    "except:\n",
    "    print(type(tuple_obj), \"is an immutable data type!\")\n",
    "finally:\n",
    "    print(\"id(tuple_obj):\", id(tuple_obj))"
   ]
  },
  {
   "cell_type": "markdown",
   "metadata": {},
   "source": [
    "## 6 - Frozensets"
   ]
  },
  {
   "cell_type": "code",
   "execution_count": 18,
   "metadata": {},
   "outputs": [
    {
     "name": "stdout",
     "output_type": "stream",
     "text": [
      "id(frozenset_obj): 135740163876096\n",
      "<class 'frozenset'> is an immutable data type!\n",
      "id(frozenset_obj): 135740163876096\n"
     ]
    }
   ],
   "source": [
    "frozenset_obj = frozenset([1, 2, 3])\n",
    "print(\"id(frozenset_obj):\", id(frozenset_obj))\n",
    "try:\n",
    "    frozenset_obj.add(4)\n",
    "    print(type(frozenset_obj), \"is a mutable data type!\")\n",
    "except:\n",
    "    print(type(frozenset_obj), \"is an immutable data type!\")\n",
    "finally:\n",
    "    print(\"id(frozenset_obj):\", id(frozenset_obj))\n"
   ]
  },
  {
   "cell_type": "markdown",
   "metadata": {},
   "source": [
    "## 7 - Bytes"
   ]
  },
  {
   "cell_type": "code",
   "execution_count": 19,
   "metadata": {},
   "outputs": [
    {
     "name": "stdout",
     "output_type": "stream",
     "text": [
      "id(bytes_obj): 135740162462592\n",
      "<class 'bytes'> is an immutable data type!\n",
      "id(bytes_obj): 135740162462592\n"
     ]
    }
   ],
   "source": [
    "bytes_obj = b\"abc\"\n",
    "print(\"id(bytes_obj):\", id(bytes_obj))\n",
    "try:\n",
    "    bytes_obj[0] = b\"z\"\n",
    "    print(type(bytes_obj), \"is a mutable data type!\")\n",
    "except:\n",
    "    print(type(bytes_obj), \"is an immutable data type!\")\n",
    "finally:\n",
    "    print(\"id(bytes_obj):\", id(bytes_obj))"
   ]
  },
  {
   "cell_type": "markdown",
   "metadata": {},
   "source": [
    "## 8 - Range"
   ]
  },
  {
   "cell_type": "code",
   "execution_count": 20,
   "metadata": {},
   "outputs": [
    {
     "name": "stdout",
     "output_type": "stream",
     "text": [
      "id(range_obj): 135740162466000\n",
      "<class 'range'> is an immutable data type!\n",
      "id(range_obj): 135740162466000\n"
     ]
    }
   ],
   "source": [
    "range_obj = range(5)\n",
    "print(\"id(range_obj):\", id(range_obj))\n",
    "try:\n",
    "    range_obj[0] = 99\n",
    "    print(type(range_obj), \"is a mutable data type!\")\n",
    "except:\n",
    "    print(type(range_obj), \"is an immutable data type!\")\n",
    "finally:\n",
    "    print(\"id(range_obj):\", id(range_obj))\n"
   ]
  },
  {
   "cell_type": "markdown",
   "metadata": {},
   "source": [
    "## 9 - Bool"
   ]
  },
  {
   "cell_type": "code",
   "execution_count": 25,
   "metadata": {},
   "outputs": [
    {
     "name": "stdout",
     "output_type": "stream",
     "text": [
      "id(bool_obj): 10658656\n",
      "<class 'bool'> is an immutable data type!\n",
      "id(bool_obj): 10658656\n"
     ]
    }
   ],
   "source": [
    "bool_obj = True\n",
    "print(\"id(bool_obj):\", id(bool_obj))\n",
    "try:\n",
    "    bool_obj[0] = False\n",
    "    print(type(bool_obj), \"is a mutable data type!\")\n",
    "except:\n",
    "    print(type(bool_obj), \"is an immutable data type!\")\n",
    "finally:\n",
    "    print(\"id(bool_obj):\", id(bool_obj))"
   ]
  },
  {
   "cell_type": "markdown",
   "metadata": {},
   "source": [
    "## 10 - NoneType"
   ]
  },
  {
   "cell_type": "code",
   "execution_count": null,
   "metadata": {},
   "outputs": [
    {
     "name": "stdout",
     "output_type": "stream",
     "text": [
      "id(none_obj): 10750112\n",
      "<class 'NoneType'> is an immutable data type!\n",
      "id(none_obj): 10750112\n"
     ]
    }
   ],
   "source": [
    "none_obj = None\n",
    "print(\"id(none_obj):\", id(none_obj))\n",
    "try:\n",
    "    none_obj[0] = None\n",
    "    print(type(none_obj), \"is a mutable data type!\")\n",
    "except:\n",
    "    print(type(none_obj), \"is an immutable data type!\")\n",
    "finally:\n",
    "    print(\"id(none_obj):\", id(none_obj))"
   ]
  },
  {
   "cell_type": "markdown",
   "metadata": {},
   "source": [
    "# MUTABLE OBJECTS"
   ]
  },
  {
   "cell_type": "markdown",
   "metadata": {},
   "source": [
    "## 1 - List"
   ]
  },
  {
   "cell_type": "code",
   "execution_count": 26,
   "metadata": {
    "scrolled": true
   },
   "outputs": [
    {
     "name": "stdout",
     "output_type": "stream",
     "text": [
      "id(list_obj): 135739754024448\n",
      "<class 'list'> is a mutable data type!\n",
      "id(list_obj): 135739754024448\n"
     ]
    }
   ],
   "source": [
    "list_obj = ['a', 'b', 'c', 'd']\n",
    "print(\"id(list_obj):\", id(list_obj))\n",
    "try:\n",
    "    list_obj[0] = 'A'\n",
    "    print(type(list_obj), \"is a mutable data type!\")\n",
    "except:\n",
    "    print(type(list_obj), \"is an immutable data type!\")\n",
    "finally:\n",
    "    print(\"id(list_obj):\", id(list_obj))"
   ]
  },
  {
   "cell_type": "markdown",
   "metadata": {},
   "source": [
    "## 2 - Dict"
   ]
  },
  {
   "cell_type": "code",
   "execution_count": 28,
   "metadata": {},
   "outputs": [
    {
     "name": "stdout",
     "output_type": "stream",
     "text": [
      "id(dict_obj): 135739755742912\n",
      "<class 'dict'> is a mutable data type!\n",
      "id(dict_obj): 135739755742912\n"
     ]
    }
   ],
   "source": [
    "dict_obj = {\"a\": 1, \"b\": 2}\n",
    "print(\"id(dict_obj):\", id(dict_obj))\n",
    "try:\n",
    "    dict_obj[\"a\"] = 99\n",
    "    print(type(dict_obj), \"is a mutable data type!\")\n",
    "except:\n",
    "    print(type(dict_obj), \"is an immutable data type!\")\n",
    "finally:\n",
    "    print(\"id(dict_obj):\", id(dict_obj))\n"
   ]
  },
  {
   "cell_type": "markdown",
   "metadata": {},
   "source": [
    "## 3 - Set"
   ]
  },
  {
   "cell_type": "code",
   "execution_count": 29,
   "metadata": {},
   "outputs": [
    {
     "name": "stdout",
     "output_type": "stream",
     "text": [
      "id(set_obj): 135740163877440\n",
      "<class 'set'> is a mutable data type!\n",
      "id(set_obj): 135740163877440\n"
     ]
    }
   ],
   "source": [
    "set_obj = {1, 2, 3}\n",
    "print(\"id(set_obj):\", id(set_obj))\n",
    "try:\n",
    "    set_obj.add(4)\n",
    "    print(type(set_obj), \"is a mutable data type!\")\n",
    "except:\n",
    "    print(type(set_obj), \"is an immutable data type!\")\n",
    "finally:\n",
    "    print(\"id(set_obj):\", id(set_obj))\n"
   ]
  },
  {
   "cell_type": "markdown",
   "metadata": {},
   "source": [
    "## 4 - Bytearray"
   ]
  },
  {
   "cell_type": "code",
   "execution_count": 30,
   "metadata": {},
   "outputs": [
    {
     "name": "stdout",
     "output_type": "stream",
     "text": [
      "id(bytearray_obj): 135739753973104\n",
      "<class 'bytearray'> is a mutable data type!\n",
      "id(bytearray_obj): 135739753973104\n"
     ]
    }
   ],
   "source": [
    "bytearray_obj = bytearray(b\"abcd\")\n",
    "print(\"id(bytearray_obj):\", id(bytearray_obj))\n",
    "try:\n",
    "    bytearray_obj[0] = 65  # ASCII for 'A'\n",
    "    print(type(bytearray_obj), \"is a mutable data type!\")\n",
    "except:\n",
    "    print(type(bytearray_obj), \"is an immutable data type!\")\n",
    "finally:\n",
    "    print(\"id(bytearray_obj):\", id(bytearray_obj))\n"
   ]
  },
  {
   "cell_type": "markdown",
   "metadata": {},
   "source": [
    "## 5 - MemoryView"
   ]
  },
  {
   "cell_type": "code",
   "execution_count": 31,
   "metadata": {},
   "outputs": [
    {
     "name": "stdout",
     "output_type": "stream",
     "text": [
      "id(memoryview_obj): 135739755726016\n",
      "<class 'memoryview'> is a mutable data type!\n",
      "id(memoryview_obj): 135739755726016\n"
     ]
    }
   ],
   "source": [
    "memoryview_obj = memoryview(bytearray(b\"abcd\"))\n",
    "print(\"id(memoryview_obj):\", id(memoryview_obj))\n",
    "try:\n",
    "    memoryview_obj[0] = 65  # ASCII for 'A'\n",
    "    print(type(memoryview_obj), \"is a mutable data type!\")\n",
    "except:\n",
    "    print(type(memoryview_obj), \"is an immutable data type!\")\n",
    "finally:\n",
    "    print(\"id(memoryview_obj):\", id(memoryview_obj))\n"
   ]
  }
 ],
 "metadata": {
  "kernelspec": {
   "display_name": ".venv (3.12.3)",
   "language": "python",
   "name": "python3"
  },
  "language_info": {
   "codemirror_mode": {
    "name": "ipython",
    "version": 3
   },
   "file_extension": ".py",
   "mimetype": "text/x-python",
   "name": "python",
   "nbconvert_exporter": "python",
   "pygments_lexer": "ipython3",
   "version": "3.12.3"
  }
 },
 "nbformat": 4,
 "nbformat_minor": 4
}
